{
  "nbformat": 4,
  "nbformat_minor": 0,
  "metadata": {
    "colab": {
      "provenance": []
    },
    "kernelspec": {
      "name": "python3",
      "display_name": "Python 3"
    },
    "language_info": {
      "name": "python"
    }
  },
  "cells": [
    {
      "cell_type": "markdown",
      "source": [
        "##Deep learning categorizing with MNIST dataset\n",
        "### handwriting data"
      ],
      "metadata": {
        "id": "uQE804ASpvEM"
      }
    },
    {
      "cell_type": "code",
      "execution_count": 90,
      "metadata": {
        "id": "SSqTeEPUO2e4"
      },
      "outputs": [],
      "source": [
        "import matplotlib.pyplot as plt\n",
        "from tensorflow import keras\n",
        "from keras.layers import Dense\n",
        "from keras.models import Sequential, load_model\n",
        "from keras.datasets import mnist\n",
        "from keras.utils import to_categorical, custom_object_scope"
      ]
    },
    {
      "cell_type": "code",
      "source": [
        "(X_train, y_train), (X_test, y_test) = mnist.load_data()\n",
        "\n",
        "print(f\"X_train_shape: {X_train.shape}\")\n",
        "print(f\"y_train_shape: {y_train.shape}\")\n",
        "print(f\"X_test_shape: {X_test.shape}\")\n",
        "print(f\"y_test_shape: {y_test.shape}\")"
      ],
      "metadata": {
        "colab": {
          "base_uri": "https://localhost:8080/"
        },
        "id": "mBHsN8LRPiiD",
        "outputId": "109636da-0f31-4cb5-dad7-153e55144435"
      },
      "execution_count": 91,
      "outputs": [
        {
          "output_type": "stream",
          "name": "stdout",
          "text": [
            "X_train_shape: (60000, 28, 28)\n",
            "y_train_shape: (60000,)\n",
            "X_test_shape: (10000, 28, 28)\n",
            "y_test_shape: (10000,)\n"
          ]
        }
      ]
    },
    {
      "cell_type": "code",
      "source": [
        "X_test[4]"
      ],
      "metadata": {
        "id": "l_RvbyQptJGa",
        "colab": {
          "base_uri": "https://localhost:8080/"
        },
        "outputId": "7fc01faf-d7d2-4e71-dd72-d6042f0093bc"
      },
      "execution_count": 92,
      "outputs": [
        {
          "output_type": "execute_result",
          "data": {
            "text/plain": [
              "array([[  0,   0,   0,   0,   0,   0,   0,   0,   0,   0,   0,   0,   0,\n",
              "          0,   0,   0,   0,   0,   0,   0,   0,   0,   0,   0,   0,   0,\n",
              "          0,   0],\n",
              "       [  0,   0,   0,   0,   0,   0,   0,   0,   0,   0,   0,   0,   0,\n",
              "          0,   0,   0,   0,   0,   0,   0,   0,   0,   0,   0,   0,   0,\n",
              "          0,   0],\n",
              "       [  0,   0,   0,   0,   0,   0,   0,   0,   0,   0,   0,   0,   0,\n",
              "          0,   0,   0,   0,   0,   0,   0,   0,   0,   0,   0,   0,   0,\n",
              "          0,   0],\n",
              "       [  0,   0,   0,   0,   0,   0,   0,   0,   0,   0,   0,   0,   0,\n",
              "          0,   0,   0,   0,   0,   0,   0,   0,   0,   0,   0,   0,   0,\n",
              "          0,   0],\n",
              "       [  0,   0,   0,   0,   0,   0,   0,   0,   0,   0,   0,   0,   0,\n",
              "          0,   0,   0,   0,   0,   0,   0,   0,   0,   0,   0,   0,   0,\n",
              "          0,   0],\n",
              "       [  0,   0,   0,   0,   0,   0,   0,   0,   0,   0,  50, 224,   0,\n",
              "          0,   0,   0,   0,   0,   0,  70,  29,   0,   0,   0,   0,   0,\n",
              "          0,   0],\n",
              "       [  0,   0,   0,   0,   0,   0,   0,   0,   0,   0, 121, 231,   0,\n",
              "          0,   0,   0,   0,   0,   0, 148, 168,   0,   0,   0,   0,   0,\n",
              "          0,   0],\n",
              "       [  0,   0,   0,   0,   0,   0,   0,   0,   0,   4, 195, 231,   0,\n",
              "          0,   0,   0,   0,   0,   0,  96, 210,  11,   0,   0,   0,   0,\n",
              "          0,   0],\n",
              "       [  0,   0,   0,   0,   0,   0,   0,   0,   0,  69, 252, 134,   0,\n",
              "          0,   0,   0,   0,   0,   0, 114, 252,  21,   0,   0,   0,   0,\n",
              "          0,   0],\n",
              "       [  0,   0,   0,   0,   0,   0,   0,   0,  45, 236, 217,  12,   0,\n",
              "          0,   0,   0,   0,   0,   0, 192, 252,  21,   0,   0,   0,   0,\n",
              "          0,   0],\n",
              "       [  0,   0,   0,   0,   0,   0,   0,   0, 168, 247,  53,   0,   0,\n",
              "          0,   0,   0,   0,   0,  18, 255, 253,  21,   0,   0,   0,   0,\n",
              "          0,   0],\n",
              "       [  0,   0,   0,   0,   0,   0,   0,  84, 242, 211,   0,   0,   0,\n",
              "          0,   0,   0,   0,   0, 141, 253, 189,   5,   0,   0,   0,   0,\n",
              "          0,   0],\n",
              "       [  0,   0,   0,   0,   0,   0,   0, 169, 252, 106,   0,   0,   0,\n",
              "          0,   0,   0,   0,  32, 232, 250,  66,   0,   0,   0,   0,   0,\n",
              "          0,   0],\n",
              "       [  0,   0,   0,   0,   0,   0,  15, 225, 252,   0,   0,   0,   0,\n",
              "          0,   0,   0,   0, 134, 252, 211,   0,   0,   0,   0,   0,   0,\n",
              "          0,   0],\n",
              "       [  0,   0,   0,   0,   0,   0,  22, 252, 164,   0,   0,   0,   0,\n",
              "          0,   0,   0,   0, 169, 252, 167,   0,   0,   0,   0,   0,   0,\n",
              "          0,   0],\n",
              "       [  0,   0,   0,   0,   0,   0,   9, 204, 209,  18,   0,   0,   0,\n",
              "          0,   0,   0,  22, 253, 253, 107,   0,   0,   0,   0,   0,   0,\n",
              "          0,   0],\n",
              "       [  0,   0,   0,   0,   0,   0,   0, 169, 252, 199,  85,  85,  85,\n",
              "         85, 129, 164, 195, 252, 252, 106,   0,   0,   0,   0,   0,   0,\n",
              "          0,   0],\n",
              "       [  0,   0,   0,   0,   0,   0,   0,  41, 170, 245, 252, 252, 252,\n",
              "        252, 232, 231, 251, 252, 252,   9,   0,   0,   0,   0,   0,   0,\n",
              "          0,   0],\n",
              "       [  0,   0,   0,   0,   0,   0,   0,   0,   0,  49,  84,  84,  84,\n",
              "         84,   0,   0, 161, 252, 252,   0,   0,   0,   0,   0,   0,   0,\n",
              "          0,   0],\n",
              "       [  0,   0,   0,   0,   0,   0,   0,   0,   0,   0,   0,   0,   0,\n",
              "          0,   0,   0, 127, 252, 252,  45,   0,   0,   0,   0,   0,   0,\n",
              "          0,   0],\n",
              "       [  0,   0,   0,   0,   0,   0,   0,   0,   0,   0,   0,   0,   0,\n",
              "          0,   0,   0, 128, 253, 253,   0,   0,   0,   0,   0,   0,   0,\n",
              "          0,   0],\n",
              "       [  0,   0,   0,   0,   0,   0,   0,   0,   0,   0,   0,   0,   0,\n",
              "          0,   0,   0, 127, 252, 252,   0,   0,   0,   0,   0,   0,   0,\n",
              "          0,   0],\n",
              "       [  0,   0,   0,   0,   0,   0,   0,   0,   0,   0,   0,   0,   0,\n",
              "          0,   0,   0, 135, 252, 244,   0,   0,   0,   0,   0,   0,   0,\n",
              "          0,   0],\n",
              "       [  0,   0,   0,   0,   0,   0,   0,   0,   0,   0,   0,   0,   0,\n",
              "          0,   0,   0, 232, 236, 111,   0,   0,   0,   0,   0,   0,   0,\n",
              "          0,   0],\n",
              "       [  0,   0,   0,   0,   0,   0,   0,   0,   0,   0,   0,   0,   0,\n",
              "          0,   0,   0, 179,  66,   0,   0,   0,   0,   0,   0,   0,   0,\n",
              "          0,   0],\n",
              "       [  0,   0,   0,   0,   0,   0,   0,   0,   0,   0,   0,   0,   0,\n",
              "          0,   0,   0,   0,   0,   0,   0,   0,   0,   0,   0,   0,   0,\n",
              "          0,   0],\n",
              "       [  0,   0,   0,   0,   0,   0,   0,   0,   0,   0,   0,   0,   0,\n",
              "          0,   0,   0,   0,   0,   0,   0,   0,   0,   0,   0,   0,   0,\n",
              "          0,   0],\n",
              "       [  0,   0,   0,   0,   0,   0,   0,   0,   0,   0,   0,   0,   0,\n",
              "          0,   0,   0,   0,   0,   0,   0,   0,   0,   0,   0,   0,   0,\n",
              "          0,   0]], dtype=uint8)"
            ]
          },
          "metadata": {},
          "execution_count": 92
        }
      ]
    },
    {
      "cell_type": "code",
      "source": [
        "y_test"
      ],
      "metadata": {
        "colab": {
          "base_uri": "https://localhost:8080/"
        },
        "id": "aSkNtScmsnkM",
        "outputId": "30023228-3c09-4162-f388-9828e7408d03"
      },
      "execution_count": 93,
      "outputs": [
        {
          "output_type": "execute_result",
          "data": {
            "text/plain": [
              "array([7, 2, 1, ..., 4, 5, 6], dtype=uint8)"
            ]
          },
          "metadata": {},
          "execution_count": 93
        }
      ]
    },
    {
      "cell_type": "code",
      "source": [
        "plt.imshow(X_train[10])\n",
        "plt.show()"
      ],
      "metadata": {
        "colab": {
          "base_uri": "https://localhost:8080/",
          "height": 430
        },
        "id": "qPgviqA8RbWC",
        "outputId": "36629bed-b604-4d94-ec33-cb8bc5cdef05"
      },
      "execution_count": 94,
      "outputs": [
        {
          "output_type": "display_data",
          "data": {
            "text/plain": [
              "<Figure size 640x480 with 1 Axes>"
            ],
            "image/png": "[encoded data removed]"
          },
          "metadata": {}
        }
      ]
    },
    {
      "cell_type": "code",
      "source": [
        "input_shape = X_train.shape[1] * X_train.shape[2]  # size: 28 * 28\n",
        "number_of_classes = len(set(y_train))  # labels. Number 0~9(10 numbers)\n",
        "\n",
        "X_train = X_train / 255.0\n",
        "X_test = X_test / 255\n",
        "\n",
        "###\n",
        "X_train = X_train.reshape(-1, input_shape)  # 3 dim -> 2 dim\n",
        "X_test = X_test.reshape(-1, input_shape)\n",
        "\n",
        "print(f\"X_train_shape: {X_train.shape}\")  # X_train_shape: (60000, 784)\n",
        "print(f\"X_test_shape: {X_test.shape}\")  # X_test_shape: (10000, 784)"
      ],
      "metadata": {
        "colab": {
          "base_uri": "https://localhost:8080/"
        },
        "id": "MoBup2wPVY61",
        "outputId": "6f107a6d-b1ee-45b6-adc0-703b69231d8b"
      },
      "execution_count": 95,
      "outputs": [
        {
          "output_type": "stream",
          "name": "stdout",
          "text": [
            "X_train_shape: (60000, 784)\n",
            "X_test_shape: (10000, 784)\n"
          ]
        }
      ]
    },
    {
      "cell_type": "code",
      "source": [
        "y_train = to_categorical(y_train, number_of_classes)  # One-hot encoding. 1 dim -> 2 dim\n",
        "y_test = to_categorical(y_test, number_of_classes)    #\n",
        "\n",
        "print(f\"y_train_shape: {y_train.shape}\")  # y_train_shape: (60000, 10)\n",
        "print(f\"y_test_shape: {y_test.shape}\")  # y_test_shape: (10000, 10)"
      ],
      "metadata": {
        "colab": {
          "base_uri": "https://localhost:8080/"
        },
        "id": "7WxIbSQLVizl",
        "outputId": "89217659-cbaa-4d2a-c5fa-c3e29c72f131"
      },
      "execution_count": 96,
      "outputs": [
        {
          "output_type": "stream",
          "name": "stdout",
          "text": [
            "y_train_shape: (60000, 10)\n",
            "y_test_shape: (10000, 10)\n"
          ]
        }
      ]
    },
    {
      "cell_type": "code",
      "source": [
        "model = Sequential() #model"
      ],
      "metadata": {
        "id": "F9OjkvwQidgz"
      },
      "execution_count": 97,
      "outputs": []
    },
    {
      "cell_type": "code",
      "source": [
        "model.add(Dense(128, activation = \"relu\", input_shape=X_train.shape[1:]))"
      ],
      "metadata": {
        "id": "a55P-KDAn3Kc"
      },
      "execution_count": 98,
      "outputs": []
    },
    {
      "cell_type": "code",
      "source": [
        "model.add(Dense(y_train.shape[1], activation=\"softmax\"))"
      ],
      "metadata": {
        "id": "vyfr7o6-n-mv"
      },
      "execution_count": 99,
      "outputs": []
    },
    {
      "cell_type": "code",
      "source": [
        "model.compile(#loss=\"mean_squared_error\",\n",
        "              #loss=\"categorial_crossentropy\",\n",
        "              loss = \"categorical_crossentropy\",\n",
        "              #loss=tf.keras.losses.CategoricalCrossentropy()\n",
        "              optimizer=\"adam\",\n",
        "              metrics=[\"acc\"])\n",
        "\n",
        "model.summary()"
      ],
      "metadata": {
        "colab": {
          "base_uri": "https://localhost:8080/"
        },
        "id": "IWJG5bX8oGI3",
        "outputId": "681650d9-84c0-45e7-a57c-4c88f8506a53"
      },
      "execution_count": 100,
      "outputs": [
        {
          "output_type": "stream",
          "name": "stdout",
          "text": [
            "Model: \"sequential_2\"\n",
            "_________________________________________________________________\n",
            " Layer (type)                Output Shape              Param #   \n",
            "=================================================================\n",
            " dense_4 (Dense)             (None, 128)               100480    \n",
            "                                                                 \n",
            " dense_5 (Dense)             (None, 10)                1290      \n",
            "                                                                 \n",
            "=================================================================\n",
            "Total params: 101770 (397.54 KB)\n",
            "Trainable params: 101770 (397.54 KB)\n",
            "Non-trainable params: 0 (0.00 Byte)\n",
            "_________________________________________________________________\n"
          ]
        }
      ]
    },
    {
      "cell_type": "code",
      "source": [
        "history = model.fit(X_train, y_train, batch_size=32, epochs=10, validation_split=0.3)\n",
        "loss, acc = model.evaluate(X_test, y_test)\n",
        "print(\"loss: \", loss)\n",
        "print(\"acc: \", acc)"
      ],
      "metadata": {
        "id": "AYyqAL_GovCV",
        "colab": {
          "base_uri": "https://localhost:8080/"
        },
        "outputId": "afcc2e63-801f-4528-8afa-e65cb52c339b"
      },
      "execution_count": 101,
      "outputs": [
        {
          "output_type": "stream",
          "name": "stdout",
          "text": [
            "Epoch 1/10\n",
            "1313/1313 [==============================] - 8s 6ms/step - loss: 0.3080 - acc: 0.9115 - val_loss: 0.1776 - val_acc: 0.9481\n",
            "Epoch 2/10\n",
            "1313/1313 [==============================] - 6s 5ms/step - loss: 0.1383 - acc: 0.9589 - val_loss: 0.1293 - val_acc: 0.9604\n",
            "Epoch 3/10\n",
            "1313/1313 [==============================] - 7s 5ms/step - loss: 0.0931 - acc: 0.9726 - val_loss: 0.1156 - val_acc: 0.9650\n",
            "Epoch 4/10\n",
            "1313/1313 [==============================] - 6s 4ms/step - loss: 0.0672 - acc: 0.9800 - val_loss: 0.1023 - val_acc: 0.9684\n",
            "Epoch 5/10\n",
            "1313/1313 [==============================] - 7s 5ms/step - loss: 0.0502 - acc: 0.9845 - val_loss: 0.0991 - val_acc: 0.9695\n",
            "Epoch 6/10\n",
            "1313/1313 [==============================] - 6s 4ms/step - loss: 0.0398 - acc: 0.9875 - val_loss: 0.0951 - val_acc: 0.9721\n",
            "Epoch 7/10\n",
            "1313/1313 [==============================] - 8s 6ms/step - loss: 0.0308 - acc: 0.9907 - val_loss: 0.0946 - val_acc: 0.9730\n",
            "Epoch 8/10\n",
            "1313/1313 [==============================] - 8s 6ms/step - loss: 0.0237 - acc: 0.9935 - val_loss: 0.1045 - val_acc: 0.9706\n",
            "Epoch 9/10\n",
            "1313/1313 [==============================] - 8s 6ms/step - loss: 0.0194 - acc: 0.9945 - val_loss: 0.1044 - val_acc: 0.9724\n",
            "Epoch 10/10\n",
            "1313/1313 [==============================] - 7s 5ms/step - loss: 0.0151 - acc: 0.9959 - val_loss: 0.1146 - val_acc: 0.9695\n",
            "313/313 [==============================] - 1s 2ms/step - loss: 0.0984 - acc: 0.9737\n",
            "loss:  0.09841471910476685\n",
            "acc:  0.9736999869346619\n"
          ]
        }
      ]
    },
    {
      "cell_type": "code",
      "source": [
        "plt.figure(figsize=(18, 6))\n",
        "\n",
        "# acc\n",
        "plt.subplot(1,2,1)\n",
        "plt.plot(history.history[\"acc\"], label=\"accuracy\")\n",
        "plt.plot(history.history[\"val_acc\"], label=\"val_accuracy\")\n",
        "plt.title(\"accuracy\")\n",
        "plt.legend()\n",
        "\n",
        "# loss\n",
        "plt.subplot(1,2,2)\n",
        "plt.plot(history.history[\"loss\"], label=\"loss\")\n",
        "plt.plot(history.history[\"val_loss\"], label=\"val_loss\")\n",
        "plt.title(\"loss\")\n",
        "plt.legend()\n",
        "\n",
        "plt.show()"
      ],
      "metadata": {
        "colab": {
          "base_uri": "https://localhost:8080/",
          "height": 354
        },
        "id": "pZJFrCEioRye",
        "outputId": "5b92075b-dc99-4493-b753-a5e3ec707f48"
      },
      "execution_count": 102,
      "outputs": [
        {
          "output_type": "display_data",
          "data": {
            "text/plain": [
              "<Figure size 1800x600 with 2 Axes>"
            ],
            "image/png": "[encoded data removed]"
          },
          "metadata": {}
        }
      ]
    },
    {
      "cell_type": "code",
      "source": [
        "#test with data\n",
        "plt.imshow(X_test[0].reshape(28, 28))\n",
        "plt.show()\n",
        "\n",
        "pred = model.predict(X_test[:1])[0]\n",
        "\n",
        "print(\"real:\", y_test[0].argmax())  # 7\n",
        "print(\"predict:\", pred.argmax())  # 7"
      ],
      "metadata": {
        "colab": {
          "base_uri": "https://localhost:8080/",
          "height": 482
        },
        "id": "h4501qvFhoE2",
        "outputId": "7c22f457-13b0-4b66-c3cc-ba2dd5e7436f"
      },
      "execution_count": 106,
      "outputs": [
        {
          "output_type": "display_data",
          "data": {
            "text/plain": [
              "<Figure size 640x480 with 1 Axes>"
            ],
            "image/png": "[encoded data removed]"
          },
          "metadata": {}
        },
        {
          "output_type": "stream",
          "name": "stdout",
          "text": [
            "1/1 [==============================] - 0s 28ms/step\n",
            "real: 7\n",
            "predict: 7\n"
          ]
        }
      ]
    },
    {
      "cell_type": "code",
      "source": [
        "#test with drawing image\n",
        "# Import the dataset\n",
        "from google.colab import files\n",
        "\n",
        "file = files.upload()"
      ],
      "metadata": {
        "colab": {
          "base_uri": "https://localhost:8080/",
          "height": 73
        },
        "id": "owmbF7apnU3n",
        "outputId": "440ac8f0-690e-4e58-83ec-460d268a8a07"
      },
      "execution_count": 112,
      "outputs": [
        {
          "output_type": "display_data",
          "data": {
            "text/plain": [
              "<IPython.core.display.HTML object>"
            ],
            "text/html": [
              "\n",
              "     <input type=\"file\" id=\"files-73476ba4-be01-4cbd-9c3d-68af500bd4ec\" name=\"files[]\" multiple disabled\n",
              "        style=\"border:none\" />\n",
              "     <output id=\"result-73476ba4-be01-4cbd-9c3d-68af500bd4ec\">\n",
              "      Upload widget is only available when the cell has been executed in the\n",
              "      current browser session. Please rerun this cell to enable.\n",
              "      </output>\n",
              "      <script>// Copyright 2017 Google LLC\n",
              "//\n",
              "// Licensed under the Apache License, Version 2.0 (the \"License\");\n",
              "// you may not use this file except in compliance with the License.\n",
              "// You may obtain a copy of the License at\n",
              "//\n",
              "//      http://www.apache.org/licenses/LICENSE-2.0\n",
              "//\n",
              "// Unless required by applicable law or agreed to in writing, software\n",
              "// distributed under the License is distributed on an \"AS IS\" BASIS,\n",
              "// WITHOUT WARRANTIES OR CONDITIONS OF ANY KIND, either express or implied.\n",
              "// See the License for the specific language governing permissions and\n",
              "// limitations under the License.\n",
              "\n",
              "/**\n",
              " * @fileoverview Helpers for google.colab Python module.\n",
              " */\n",
              "(function(scope) {\n",
              "function span(text, styleAttributes = {}) {\n",
              "  const element = document.createElement('span');\n",
              "  element.textContent = text;\n",
              "  for (const key of Object.keys(styleAttributes)) {\n",
              "    element.style[key] = styleAttributes[key];\n",
              "  }\n",
              "  return element;\n",
              "}\n",
              "\n",
              "// Max number of bytes which will be uploaded at a time.\n",
              "const MAX_PAYLOAD_SIZE = 100 * 1024;\n",
              "\n",
              "function _uploadFiles(inputId, outputId) {\n",
              "  const steps = uploadFilesStep(inputId, outputId);\n",
              "  const outputElement = document.getElementById(outputId);\n",
              "  // Cache steps on the outputElement to make it available for the next call\n",
              "  // to uploadFilesContinue from Python.\n",
              "  outputElement.steps = steps;\n",
              "\n",
              "  return _uploadFilesContinue(outputId);\n",
              "}\n",
              "\n",
              "// This is roughly an async generator (not supported in the browser yet),\n",
              "// where there are multiple asynchronous steps and the Python side is going\n",
              "// to poll for completion of each step.\n",
              "// This uses a Promise to block the python side on completion of each step,\n",
              "// then passes the result of the previous step as the input to the next step.\n",
              "function _uploadFilesContinue(outputId) {\n",
              "  const outputElement = document.getElementById(outputId);\n",
              "  const steps = outputElement.steps;\n",
              "\n",
              "  const next = steps.next(outputElement.lastPromiseValue);\n",
              "  return Promise.resolve(next.value.promise).then((value) => {\n",
              "    // Cache the last promise value to make it available to the next\n",
              "    // step of the generator.\n",
              "    outputElement.lastPromiseValue = value;\n",
              "    return next.value.response;\n",
              "  });\n",
              "}\n",
              "\n",
              "/**\n",
              " * Generator function which is called between each async step of the upload\n",
              " * process.\n",
              " * @param {string} inputId Element ID of the input file picker element.\n",
              " * @param {string} outputId Element ID of the output display.\n",
              " * @return {!Iterable<!Object>} Iterable of next steps.\n",
              " */\n",
              "function* uploadFilesStep(inputId, outputId) {\n",
              "  const inputElement = document.getElementById(inputId);\n",
              "  inputElement.disabled = false;\n",
              "\n",
              "  const outputElement = document.getElementById(outputId);\n",
              "  outputElement.innerHTML = '';\n",
              "\n",
              "  const pickedPromise = new Promise((resolve) => {\n",
              "    inputElement.addEventListener('change', (e) => {\n",
              "      resolve(e.target.files);\n",
              "    });\n",
              "  });\n",
              "\n",
              "  const cancel = document.createElement('button');\n",
              "  inputElement.parentElement.appendChild(cancel);\n",
              "  cancel.textContent = 'Cancel upload';\n",
              "  const cancelPromise = new Promise((resolve) => {\n",
              "    cancel.onclick = () => {\n",
              "      resolve(null);\n",
              "    };\n",
              "  });\n",
              "\n",
              "  // Wait for the user to pick the files.\n",
              "  const files = yield {\n",
              "    promise: Promise.race([pickedPromise, cancelPromise]),\n",
              "    response: {\n",
              "      action: 'starting',\n",
              "    }\n",
              "  };\n",
              "\n",
              "  cancel.remove();\n",
              "\n",
              "  // Disable the input element since further picks are not allowed.\n",
              "  inputElement.disabled = true;\n",
              "\n",
              "  if (!files) {\n",
              "    return {\n",
              "      response: {\n",
              "        action: 'complete',\n",
              "      }\n",
              "    };\n",
              "  }\n",
              "\n",
              "  for (const file of files) {\n",
              "    const li = document.createElement('li');\n",
              "    li.append(span(file.name, {fontWeight: 'bold'}));\n",
              "    li.append(span(\n",
              "        `(${file.type || 'n/a'}) - ${file.size} bytes, ` +\n",
              "        `last modified: ${\n",
              "            file.lastModifiedDate ? file.lastModifiedDate.toLocaleDateString() :\n",
              "                                    'n/a'} - `));\n",
              "    const percent = span('0% done');\n",
              "    li.appendChild(percent);\n",
              "\n",
              "    outputElement.appendChild(li);\n",
              "\n",
              "    const fileDataPromise = new Promise((resolve) => {\n",
              "      const reader = new FileReader();\n",
              "      reader.onload = (e) => {\n",
              "        resolve(e.target.result);\n",
              "      };\n",
              "      reader.readAsArrayBuffer(file);\n",
              "    });\n",
              "    // Wait for the data to be ready.\n",
              "    let fileData = yield {\n",
              "      promise: fileDataPromise,\n",
              "      response: {\n",
              "        action: 'continue',\n",
              "      }\n",
              "    };\n",
              "\n",
              "    // Use a chunked sending to avoid message size limits. See b/62115660.\n",
              "    let position = 0;\n",
              "    do {\n",
              "      const length = Math.min(fileData.byteLength - position, MAX_PAYLOAD_SIZE);\n",
              "      const chunk = new Uint8Array(fileData, position, length);\n",
              "      position += length;\n",
              "\n",
              "      const base64 = btoa(String.fromCharCode.apply(null, chunk));\n",
              "      yield {\n",
              "        response: {\n",
              "          action: 'append',\n",
              "          file: file.name,\n",
              "          data: base64,\n",
              "        },\n",
              "      };\n",
              "\n",
              "      let percentDone = fileData.byteLength === 0 ?\n",
              "          100 :\n",
              "          Math.round((position / fileData.byteLength) * 100);\n",
              "      percent.textContent = `${percentDone}% done`;\n",
              "\n",
              "    } while (position < fileData.byteLength);\n",
              "  }\n",
              "\n",
              "  // All done.\n",
              "  yield {\n",
              "    response: {\n",
              "      action: 'complete',\n",
              "    }\n",
              "  };\n",
              "}\n",
              "\n",
              "scope.google = scope.google || {};\n",
              "scope.google.colab = scope.google.colab || {};\n",
              "scope.google.colab._files = {\n",
              "  _uploadFiles,\n",
              "  _uploadFilesContinue,\n",
              "};\n",
              "})(self);\n",
              "</script> "
            ]
          },
          "metadata": {}
        },
        {
          "output_type": "stream",
          "name": "stdout",
          "text": [
            "Saving 5.jpg to 5 (1).jpg\n"
          ]
        }
      ]
    },
    {
      "cell_type": "code",
      "source": [
        "from PIL import Image\n",
        "import numpy as np\n",
        "\n",
        "\n",
        "image = Image.open(\"5.jpg\")  # load img\n",
        "image = image.convert('L')  # to black and white\n",
        "image = image.resize((28, 28))  # resize\n",
        "\n",
        "data = np.array(image.getdata())  # to numpy array\n",
        "data = data.reshape(1, 28 * 28)  # flatten\n",
        "data = data.astype('float32') / 255.0  # rescaling to be 0 ~ 1\n",
        "\n",
        "# the model takes white as 1, black as 0\n",
        "# color inversion is neede.\n",
        "data = 1 - data\n",
        "\n",
        "plt.imshow(data.reshape(28,28)) #reshape again\n",
        "plt.show()\n",
        "\n",
        "pred = model.predict(data)\n",
        "print(\"predict:\", pred.argmax())  # 5"
      ],
      "metadata": {
        "colab": {
          "base_uri": "https://localhost:8080/",
          "height": 465
        },
        "id": "ONUAmEbdnC1C",
        "outputId": "6fe897c3-ae5f-4a14-c4ab-bdfc9aa4e249"
      },
      "execution_count": 113,
      "outputs": [
        {
          "output_type": "display_data",
          "data": {
            "text/plain": [
              "<Figure size 640x480 with 1 Axes>"
            ],
            "image/png": "[encoded data removed]"
          },
          "metadata": {}
        },
        {
          "output_type": "stream",
          "name": "stdout",
          "text": [
            "1/1 [==============================] - 0s 67ms/step\n",
            "predict: 5\n"
          ]
        }
      ]
    }
  ]
}